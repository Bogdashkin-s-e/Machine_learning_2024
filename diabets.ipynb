{
 "cells": [
  {
   "cell_type": "markdown",
   "id": "df09ef4c",
   "metadata": {},
   "source": [
    "**3821Б1ПМоп2 Богдашкин Сергей** \n",
    "\n",
    "ДЗ_1"
   ]
  },
  {
   "cell_type": "markdown",
   "id": "ab3d6964",
   "metadata": {},
   "source": [
    "**<span style=\"color:green\">**Описание**</span>**  \n",
    "\n",
    " Набор данных для прогнозирования диабета — это совокупность медицинских и демографических данных пациентов, а также сведений об их состоянии при диабете (положительном или отрицательном). Данные включают такие характеристики, как возраст, пол, индекс массы тела (ИМТ), гипертония, болезни сердца, история курения, уровень HbA1c и уровень глюкозы в крови. Этот набор данных можно использовать для создания моделей машинного обучения для прогнозирования диабета у пациентов на основе их истории болезни и демографических данных. Это может быть полезно для медицинских работников при выявлении пациентов, которые могут быть подвержены риску развития диабета, и при разработке индивидуальных планов лечения. Кроме того, набор данных может быть использован исследователями для изучения взаимосвязи между различными медицинскими и демографическими факторами и вероятностью развития диабета.\n",
    "\n",
    "**<span style=\"color:green\">**Метаданные (наименование поля - краткое описание):**</span>**  \n",
    "* <span style=\"color:green\">**gender:**</span> Пол индивидуума.\n",
    "* <span style=\"color:green\">**age:**</span> Возраст индивидуума.\n",
    "* <span style=\"color:green\">**hypertension:**</span> Наличие гипертонии (0 - нет, 1 - да).\n",
    "* <span style=\"color:green\">**heart_disease:**</span> Наличие болезни сердца (0 - нет, 1 - да).\n",
    "* <span style=\"color:green\">**smoking_history:**</span> Категория курения.\n",
    "* <span style=\"color:green\">**bmi:**</span> Индекс массы тела.\n",
    "* <span style=\"color:green\">**HbA1c_level:**</span> Уровень гемоглобина A1c.\n",
    "* <span style=\"color:green\">**blood_glucose_level:**</span> Уровень глюкозы в крови.\n",
    "* <span style=\"color:green\">**diabetes:**</span> Наличие диабета (0 - нет, 1 - да).\n",
    "\n",
    "**<span style=\"color:green\">**Цель задачи:**</span>** обучить модель для прогнозирования наличия диабета у пациентов на основе медицинских данных   "
   ]
  },
  {
   "cell_type": "markdown",
   "id": "314cd80a",
   "metadata": {},
   "source": [
    "# 1. Прочитать данные"
   ]
  },
  {
   "cell_type": "code",
   "execution_count": 37,
   "id": "223e8953",
   "metadata": {},
   "outputs": [],
   "source": [
    "import pandas as pd\n",
    "import matplotlib.pyplot as plt\n",
    "import seaborn as sns\n",
    "from sklearn.preprocessing import LabelEncoder, StandardScaler\n",
    "from sklearn.model_selection import train_test_split\n",
    "from sklearn.neighbors import KNeighborsClassifier\n",
    "from sklearn.ensemble import RandomForestClassifier\n",
    "from sklearn.metrics import accuracy_score, classification_report, mean_squared_error\n",
    "import numpy as np"
   ]
  },
  {
   "cell_type": "code",
   "execution_count": 38,
   "id": "b9b347c3",
   "metadata": {},
   "outputs": [],
   "source": [
    "file_path = \"C:\\\\Users\\\\bogdashkin-se\\\\Desktop\\\\ML\\\\diabetes_prediction_dataset.csv\""
   ]
  },
  {
   "cell_type": "code",
   "execution_count": 39,
   "id": "469982b6",
   "metadata": {},
   "outputs": [
    {
     "name": "stdout",
     "output_type": "stream",
     "text": [
      "<class 'pandas.core.frame.DataFrame'>\n",
      "RangeIndex: 100000 entries, 0 to 99999\n",
      "Data columns (total 9 columns):\n",
      " #   Column               Non-Null Count   Dtype  \n",
      "---  ------               --------------   -----  \n",
      " 0   gender               100000 non-null  object \n",
      " 1   age                  100000 non-null  float64\n",
      " 2   hypertension         100000 non-null  int64  \n",
      " 3   heart_disease        100000 non-null  int64  \n",
      " 4   smoking_history      100000 non-null  object \n",
      " 5   bmi                  100000 non-null  float64\n",
      " 6   HbA1c_level          100000 non-null  float64\n",
      " 7   blood_glucose_level  100000 non-null  int64  \n",
      " 8   diabetes             100000 non-null  int64  \n",
      "dtypes: float64(3), int64(4), object(2)\n",
      "memory usage: 6.9+ MB\n"
     ]
    }
   ],
   "source": [
    "df = pd.read_csv(file_path)\n",
    "df.info()"
   ]
  },
  {
   "cell_type": "code",
   "execution_count": 40,
   "id": "6a559999",
   "metadata": {},
   "outputs": [],
   "source": [
    "#Сразу выделим категориальные признаки:\n",
    "df = df[df['gender'].isin(['Male', 'Female'])]\n",
    "df['gender'] = df['gender'].astype('category')\n",
    "df['smoking_history'] = df['smoking_history'].astype('category')"
   ]
  },
  {
   "cell_type": "markdown",
   "id": "8d70b55f",
   "metadata": {},
   "source": [
    "Несбалансированность классов:"
   ]
  },
  {
   "cell_type": "code",
   "execution_count": 41,
   "id": "3949eae5",
   "metadata": {},
   "outputs": [
    {
     "data": {
      "text/plain": [
       "diabetes\n",
       "0    0.914985\n",
       "1    0.085015\n",
       "Name: proportion, dtype: float64"
      ]
     },
     "execution_count": 41,
     "metadata": {},
     "output_type": "execute_result"
    }
   ],
   "source": [
    "df['diabetes'].value_counts(normalize=True)"
   ]
  },
  {
   "cell_type": "markdown",
   "id": "b26985f7",
   "metadata": {},
   "source": [
    "Возможные выбросы:"
   ]
  },
  {
   "cell_type": "code",
   "execution_count": 42,
   "id": "e6670cc4",
   "metadata": {},
   "outputs": [
    {
     "data": {
      "text/plain": [
       "<Axes: >"
      ]
     },
     "execution_count": 42,
     "metadata": {},
     "output_type": "execute_result"
    },
    {
     "data": {
      "image/png": "[encoded data removed]",
      "text/plain": [
       "<Figure size 640x480 with 1 Axes>"
      ]
     },
     "metadata": {},
     "output_type": "display_data"
    }
   ],
   "source": [
    "import seaborn as sns\n",
    "sns.boxplot(data=df[['age', 'bmi', 'HbA1c_level', 'blood_glucose_level']])"
   ]
  },
  {
   "cell_type": "code",
   "execution_count": 43,
   "id": "59e3a188",
   "metadata": {},
   "outputs": [
    {
     "data": {
      "text/html": [
       "<div>\n",
       "<style scoped>\n",
       "    .dataframe tbody tr th:only-of-type {\n",
       "        vertical-align: middle;\n",
       "    }\n",
       "\n",
       "    .dataframe tbody tr th {\n",
       "        vertical-align: top;\n",
       "    }\n",
       "\n",
       "    .dataframe thead th {\n",
       "        text-align: right;\n",
       "    }\n",
       "</style>\n",
       "<table border=\"1\" class=\"dataframe\">\n",
       "  <thead>\n",
       "    <tr style=\"text-align: right;\">\n",
       "      <th></th>\n",
       "      <th>gender</th>\n",
       "      <th>age</th>\n",
       "      <th>hypertension</th>\n",
       "      <th>heart_disease</th>\n",
       "      <th>smoking_history</th>\n",
       "      <th>bmi</th>\n",
       "      <th>HbA1c_level</th>\n",
       "      <th>blood_glucose_level</th>\n",
       "      <th>diabetes</th>\n",
       "    </tr>\n",
       "  </thead>\n",
       "  <tbody>\n",
       "    <tr>\n",
       "      <th>0</th>\n",
       "      <td>Female</td>\n",
       "      <td>80.0</td>\n",
       "      <td>0</td>\n",
       "      <td>1</td>\n",
       "      <td>never</td>\n",
       "      <td>25.19</td>\n",
       "      <td>6.6</td>\n",
       "      <td>140</td>\n",
       "      <td>0</td>\n",
       "    </tr>\n",
       "    <tr>\n",
       "      <th>1</th>\n",
       "      <td>Female</td>\n",
       "      <td>54.0</td>\n",
       "      <td>0</td>\n",
       "      <td>0</td>\n",
       "      <td>No Info</td>\n",
       "      <td>27.32</td>\n",
       "      <td>6.6</td>\n",
       "      <td>80</td>\n",
       "      <td>0</td>\n",
       "    </tr>\n",
       "    <tr>\n",
       "      <th>2</th>\n",
       "      <td>Male</td>\n",
       "      <td>28.0</td>\n",
       "      <td>0</td>\n",
       "      <td>0</td>\n",
       "      <td>never</td>\n",
       "      <td>27.32</td>\n",
       "      <td>5.7</td>\n",
       "      <td>158</td>\n",
       "      <td>0</td>\n",
       "    </tr>\n",
       "    <tr>\n",
       "      <th>3</th>\n",
       "      <td>Female</td>\n",
       "      <td>36.0</td>\n",
       "      <td>0</td>\n",
       "      <td>0</td>\n",
       "      <td>current</td>\n",
       "      <td>23.45</td>\n",
       "      <td>5.0</td>\n",
       "      <td>155</td>\n",
       "      <td>0</td>\n",
       "    </tr>\n",
       "    <tr>\n",
       "      <th>4</th>\n",
       "      <td>Male</td>\n",
       "      <td>76.0</td>\n",
       "      <td>1</td>\n",
       "      <td>1</td>\n",
       "      <td>current</td>\n",
       "      <td>20.14</td>\n",
       "      <td>4.8</td>\n",
       "      <td>155</td>\n",
       "      <td>0</td>\n",
       "    </tr>\n",
       "  </tbody>\n",
       "</table>\n",
       "</div>"
      ],
      "text/plain": [
       "   gender   age  hypertension  heart_disease smoking_history    bmi  \\\n",
       "0  Female  80.0             0              1           never  25.19   \n",
       "1  Female  54.0             0              0         No Info  27.32   \n",
       "2    Male  28.0             0              0           never  27.32   \n",
       "3  Female  36.0             0              0         current  23.45   \n",
       "4    Male  76.0             1              1         current  20.14   \n",
       "\n",
       "   HbA1c_level  blood_glucose_level  diabetes  \n",
       "0          6.6                  140         0  \n",
       "1          6.6                   80         0  \n",
       "2          5.7                  158         0  \n",
       "3          5.0                  155         0  \n",
       "4          4.8                  155         0  "
      ]
     },
     "execution_count": 43,
     "metadata": {},
     "output_type": "execute_result"
    }
   ],
   "source": [
    "df.head()"
   ]
  },
  {
   "cell_type": "markdown",
   "id": "11d22754",
   "metadata": {},
   "source": [
    "# 2. Визуализировать, вычислить основные характеристики"
   ]
  },
  {
   "cell_type": "markdown",
   "id": "644366a5",
   "metadata": {},
   "source": [
    "**Визуализация данных**:\n",
    "1. **Распределение возрастов**:"
   ]
  },
  {
   "cell_type": "code",
   "execution_count": 44,
   "id": "4d9920af",
   "metadata": {},
   "outputs": [
    {
     "data": {
      "image/png": "[encoded data removed]",
      "text/plain": [
       "<Figure size 640x480 with 1 Axes>"
      ]
     },
     "metadata": {},
     "output_type": "display_data"
    }
   ],
   "source": [
    "import matplotlib.pyplot as plt\n",
    "import seaborn as sns\n",
    "\n",
    "# Распределение возрастов\n",
    "sns.histplot(df['age'], bins=30, kde=True)\n",
    "plt.title('Распределение возрастов')\n",
    "plt.show()"
   ]
  },
  {
   "cell_type": "markdown",
   "id": "9cce6971",
   "metadata": {},
   "source": [
    "**Анализ распределения возрастов**\n",
    "\n",
    "- Равномерное распределение: Наблюдается относительно равномерное распределение возрастов.\n",
    "- Пик в старшей группе: Больше всего наблюдений в столбце 80 лет.\n",
    "- Плавная плотность: Линия плотности показывает широкое распределение с локальными колебаниями.\n",
    "\n",
    "Это распределение может указывать на разнообразие возрастов в выборке и наличие значительной группы старших участников."
   ]
  },
  {
   "cell_type": "code",
   "execution_count": 45,
   "id": "32a730a3",
   "metadata": {},
   "outputs": [
    {
     "data": {
      "image/png": "[encoded data removed]",
      "text/plain": [
       "<Figure size 640x480 with 1 Axes>"
      ]
     },
     "metadata": {},
     "output_type": "display_data"
    }
   ],
   "source": [
    "# Диабет в зависимости от пола\n",
    "sns.countplot(data=df, x='gender', hue='diabetes')\n",
    "plt.title('Диабет в зависимости от пола')\n",
    "plt.show()\n"
   ]
  },
  {
   "cell_type": "markdown",
   "id": "15b74c0e",
   "metadata": {},
   "source": [
    "**Анализ диагноза диабета в зависимости от пола**\n",
    "\n",
    "- Большинство без диабета: Как среди мужчин, так и среди женщин преобладают лица без диабета.\n",
    "- Похожее соотношение: Соотношение диабета у различных полов примерно одинаковое.\n",
    "\n",
    "Эти выводы подчеркивают важность учета пола при дальнейшем анализе и разборе данных по диабету.\n"
   ]
  },
  {
   "cell_type": "code",
   "execution_count": 46,
   "id": "8cecece0",
   "metadata": {},
   "outputs": [
    {
     "data": {
      "image/png": "[encoded data removed]",
      "text/plain": [
       "<Figure size 640x480 with 2 Axes>"
      ]
     },
     "metadata": {},
     "output_type": "display_data"
    }
   ],
   "source": [
    "# Корреляционная матрица\n",
    "sns.heatmap(df.corr(numeric_only=True), annot=True, cmap='viridis')\n",
    "plt.title('Корреляционная матрица')\n",
    "plt.show()"
   ]
  },
  {
   "cell_type": "markdown",
   "id": "09a49c09",
   "metadata": {},
   "source": [
    "**Анализ корреляционной матрицы**\n",
    "\n",
    "- Наиболее значимые корреляции:\n",
    "  - HbA1c_level и diabetes: 0.40\n",
    "  - blood_glucose_level и diabetes: 0.42\n",
    "\n",
    "- Умеренная корреляция:\n",
    "  - bmi и age: 0.34\n",
    "\n",
    "Эти данные подсказывают, что уровни HbA1c и глюкозы в крови наиболее связаны с диагнозом диабета."
   ]
  },
  {
   "cell_type": "code",
   "execution_count": 47,
   "id": "c5085ab0",
   "metadata": {},
   "outputs": [
    {
     "data": {
      "text/html": [
       "<div>\n",
       "<style scoped>\n",
       "    .dataframe tbody tr th:only-of-type {\n",
       "        vertical-align: middle;\n",
       "    }\n",
       "\n",
       "    .dataframe tbody tr th {\n",
       "        vertical-align: top;\n",
       "    }\n",
       "\n",
       "    .dataframe thead th {\n",
       "        text-align: right;\n",
       "    }\n",
       "</style>\n",
       "<table border=\"1\" class=\"dataframe\">\n",
       "  <thead>\n",
       "    <tr style=\"text-align: right;\">\n",
       "      <th></th>\n",
       "      <th>age</th>\n",
       "      <th>hypertension</th>\n",
       "      <th>heart_disease</th>\n",
       "      <th>bmi</th>\n",
       "      <th>HbA1c_level</th>\n",
       "      <th>blood_glucose_level</th>\n",
       "      <th>diabetes</th>\n",
       "    </tr>\n",
       "  </thead>\n",
       "  <tbody>\n",
       "    <tr>\n",
       "      <th>count</th>\n",
       "      <td>99982.000000</td>\n",
       "      <td>99982.000000</td>\n",
       "      <td>99982.000000</td>\n",
       "      <td>99982.000000</td>\n",
       "      <td>99982.000000</td>\n",
       "      <td>99982.000000</td>\n",
       "      <td>99982.000000</td>\n",
       "    </tr>\n",
       "    <tr>\n",
       "      <th>mean</th>\n",
       "      <td>41.888076</td>\n",
       "      <td>0.074863</td>\n",
       "      <td>0.039427</td>\n",
       "      <td>27.320757</td>\n",
       "      <td>5.527529</td>\n",
       "      <td>138.057810</td>\n",
       "      <td>0.085015</td>\n",
       "    </tr>\n",
       "    <tr>\n",
       "      <th>std</th>\n",
       "      <td>22.517206</td>\n",
       "      <td>0.263172</td>\n",
       "      <td>0.194610</td>\n",
       "      <td>6.636853</td>\n",
       "      <td>1.070665</td>\n",
       "      <td>40.709469</td>\n",
       "      <td>0.278906</td>\n",
       "    </tr>\n",
       "    <tr>\n",
       "      <th>min</th>\n",
       "      <td>0.080000</td>\n",
       "      <td>0.000000</td>\n",
       "      <td>0.000000</td>\n",
       "      <td>10.010000</td>\n",
       "      <td>3.500000</td>\n",
       "      <td>80.000000</td>\n",
       "      <td>0.000000</td>\n",
       "    </tr>\n",
       "    <tr>\n",
       "      <th>25%</th>\n",
       "      <td>24.000000</td>\n",
       "      <td>0.000000</td>\n",
       "      <td>0.000000</td>\n",
       "      <td>23.630000</td>\n",
       "      <td>4.800000</td>\n",
       "      <td>100.000000</td>\n",
       "      <td>0.000000</td>\n",
       "    </tr>\n",
       "    <tr>\n",
       "      <th>50%</th>\n",
       "      <td>43.000000</td>\n",
       "      <td>0.000000</td>\n",
       "      <td>0.000000</td>\n",
       "      <td>27.320000</td>\n",
       "      <td>5.800000</td>\n",
       "      <td>140.000000</td>\n",
       "      <td>0.000000</td>\n",
       "    </tr>\n",
       "    <tr>\n",
       "      <th>75%</th>\n",
       "      <td>60.000000</td>\n",
       "      <td>0.000000</td>\n",
       "      <td>0.000000</td>\n",
       "      <td>29.580000</td>\n",
       "      <td>6.200000</td>\n",
       "      <td>159.000000</td>\n",
       "      <td>0.000000</td>\n",
       "    </tr>\n",
       "    <tr>\n",
       "      <th>max</th>\n",
       "      <td>80.000000</td>\n",
       "      <td>1.000000</td>\n",
       "      <td>1.000000</td>\n",
       "      <td>95.690000</td>\n",
       "      <td>9.000000</td>\n",
       "      <td>300.000000</td>\n",
       "      <td>1.000000</td>\n",
       "    </tr>\n",
       "  </tbody>\n",
       "</table>\n",
       "</div>"
      ],
      "text/plain": [
       "                age  hypertension  heart_disease           bmi   HbA1c_level  \\\n",
       "count  99982.000000  99982.000000   99982.000000  99982.000000  99982.000000   \n",
       "mean      41.888076      0.074863       0.039427     27.320757      5.527529   \n",
       "std       22.517206      0.263172       0.194610      6.636853      1.070665   \n",
       "min        0.080000      0.000000       0.000000     10.010000      3.500000   \n",
       "25%       24.000000      0.000000       0.000000     23.630000      4.800000   \n",
       "50%       43.000000      0.000000       0.000000     27.320000      5.800000   \n",
       "75%       60.000000      0.000000       0.000000     29.580000      6.200000   \n",
       "max       80.000000      1.000000       1.000000     95.690000      9.000000   \n",
       "\n",
       "       blood_glucose_level      diabetes  \n",
       "count         99982.000000  99982.000000  \n",
       "mean            138.057810      0.085015  \n",
       "std              40.709469      0.278906  \n",
       "min              80.000000      0.000000  \n",
       "25%             100.000000      0.000000  \n",
       "50%             140.000000      0.000000  \n",
       "75%             159.000000      0.000000  \n",
       "max             300.000000      1.000000  "
      ]
     },
     "execution_count": 47,
     "metadata": {},
     "output_type": "execute_result"
    }
   ],
   "source": [
    "# Основные характеристики\n",
    "df.describe()"
   ]
  },
  {
   "cell_type": "markdown",
   "id": "bef805ce",
   "metadata": {},
   "source": [
    "**Основные характеристики данных**\n",
    "\n",
    "- Возраст:\n",
    "  - Средний: 41.9\n",
    "  - Диапазон: 0–80\n",
    "\n",
    "- Гипертония и сердечные заболевания:\n",
    "  - Низкие средние значения (7.5% и 3.9% соответственно)\n",
    "\n",
    "- BMI:\n",
    "  - Средний: 27.32 \n",
    "  - Значительное стандартное отклонение, указывающее на разброс веса\n",
    "\n",
    "- Уровни HbA1c и глюкозы:\n",
    "  - Средний HbA1c: 5.53\n",
    "  - Средний уровень глюкозы: 138.06\n",
    "\n",
    "- Диабет:\n",
    "  - 8.5% от общего числа случаев\n",
    "\n",
    "Эти статистические данные показывают широкий диапазон возрастов и разнообразие в показателях здоровья."
   ]
  },
  {
   "cell_type": "code",
   "execution_count": 48,
   "id": "6eeee68e",
   "metadata": {},
   "outputs": [
    {
     "data": {
      "image/png": "[encoded data removed]",
      "text/plain": [
       "<Figure size 640x480 with 1 Axes>"
      ]
     },
     "metadata": {},
     "output_type": "display_data"
    }
   ],
   "source": [
    "sns.boxplot(df)\n",
    "pass"
   ]
  },
  {
   "cell_type": "markdown",
   "id": "bc29abe8",
   "metadata": {},
   "source": [
    "- Построение боксплота для визуализации распределения данных каждой переменной в наборе данных df. Это позволяет выявить выбросы и общие особенности распределения"
   ]
  },
  {
   "cell_type": "code",
   "execution_count": 49,
   "id": "6eec34f3",
   "metadata": {},
   "outputs": [
    {
     "data": {
      "text/html": [
       "<div>\n",
       "<style scoped>\n",
       "    .dataframe tbody tr th:only-of-type {\n",
       "        vertical-align: middle;\n",
       "    }\n",
       "\n",
       "    .dataframe tbody tr th {\n",
       "        vertical-align: top;\n",
       "    }\n",
       "\n",
       "    .dataframe thead th {\n",
       "        text-align: right;\n",
       "    }\n",
       "</style>\n",
       "<table border=\"1\" class=\"dataframe\">\n",
       "  <thead>\n",
       "    <tr style=\"text-align: right;\">\n",
       "      <th></th>\n",
       "      <th>age</th>\n",
       "      <th>hypertension</th>\n",
       "      <th>heart_disease</th>\n",
       "      <th>bmi</th>\n",
       "      <th>HbA1c_level</th>\n",
       "      <th>blood_glucose_level</th>\n",
       "      <th>diabetes</th>\n",
       "    </tr>\n",
       "  </thead>\n",
       "  <tbody>\n",
       "    <tr>\n",
       "      <th>0.005</th>\n",
       "      <td>0.56</td>\n",
       "      <td>0.0</td>\n",
       "      <td>0.0</td>\n",
       "      <td>13.8900</td>\n",
       "      <td>3.5</td>\n",
       "      <td>80.0</td>\n",
       "      <td>0.0</td>\n",
       "    </tr>\n",
       "    <tr>\n",
       "      <th>0.010</th>\n",
       "      <td>1.08</td>\n",
       "      <td>0.0</td>\n",
       "      <td>0.0</td>\n",
       "      <td>14.6000</td>\n",
       "      <td>3.5</td>\n",
       "      <td>80.0</td>\n",
       "      <td>0.0</td>\n",
       "    </tr>\n",
       "    <tr>\n",
       "      <th>0.050</th>\n",
       "      <td>4.00</td>\n",
       "      <td>0.0</td>\n",
       "      <td>0.0</td>\n",
       "      <td>16.8200</td>\n",
       "      <td>3.5</td>\n",
       "      <td>80.0</td>\n",
       "      <td>0.0</td>\n",
       "    </tr>\n",
       "    <tr>\n",
       "      <th>0.100</th>\n",
       "      <td>10.00</td>\n",
       "      <td>0.0</td>\n",
       "      <td>0.0</td>\n",
       "      <td>19.1800</td>\n",
       "      <td>4.0</td>\n",
       "      <td>85.0</td>\n",
       "      <td>0.0</td>\n",
       "    </tr>\n",
       "    <tr>\n",
       "      <th>0.500</th>\n",
       "      <td>43.00</td>\n",
       "      <td>0.0</td>\n",
       "      <td>0.0</td>\n",
       "      <td>27.3200</td>\n",
       "      <td>5.8</td>\n",
       "      <td>140.0</td>\n",
       "      <td>0.0</td>\n",
       "    </tr>\n",
       "    <tr>\n",
       "      <th>0.900</th>\n",
       "      <td>73.00</td>\n",
       "      <td>0.0</td>\n",
       "      <td>0.0</td>\n",
       "      <td>35.4700</td>\n",
       "      <td>6.6</td>\n",
       "      <td>200.0</td>\n",
       "      <td>0.0</td>\n",
       "    </tr>\n",
       "    <tr>\n",
       "      <th>0.950</th>\n",
       "      <td>80.00</td>\n",
       "      <td>1.0</td>\n",
       "      <td>0.0</td>\n",
       "      <td>39.4900</td>\n",
       "      <td>6.6</td>\n",
       "      <td>200.0</td>\n",
       "      <td>1.0</td>\n",
       "    </tr>\n",
       "    <tr>\n",
       "      <th>0.990</th>\n",
       "      <td>80.00</td>\n",
       "      <td>1.0</td>\n",
       "      <td>1.0</td>\n",
       "      <td>48.7919</td>\n",
       "      <td>8.8</td>\n",
       "      <td>280.0</td>\n",
       "      <td>1.0</td>\n",
       "    </tr>\n",
       "    <tr>\n",
       "      <th>0.995</th>\n",
       "      <td>80.00</td>\n",
       "      <td>1.0</td>\n",
       "      <td>1.0</td>\n",
       "      <td>52.5000</td>\n",
       "      <td>9.0</td>\n",
       "      <td>300.0</td>\n",
       "      <td>1.0</td>\n",
       "    </tr>\n",
       "  </tbody>\n",
       "</table>\n",
       "</div>"
      ],
      "text/plain": [
       "         age  hypertension  heart_disease      bmi  HbA1c_level  \\\n",
       "0.005   0.56           0.0            0.0  13.8900          3.5   \n",
       "0.010   1.08           0.0            0.0  14.6000          3.5   \n",
       "0.050   4.00           0.0            0.0  16.8200          3.5   \n",
       "0.100  10.00           0.0            0.0  19.1800          4.0   \n",
       "0.500  43.00           0.0            0.0  27.3200          5.8   \n",
       "0.900  73.00           0.0            0.0  35.4700          6.6   \n",
       "0.950  80.00           1.0            0.0  39.4900          6.6   \n",
       "0.990  80.00           1.0            1.0  48.7919          8.8   \n",
       "0.995  80.00           1.0            1.0  52.5000          9.0   \n",
       "\n",
       "       blood_glucose_level  diabetes  \n",
       "0.005                 80.0       0.0  \n",
       "0.010                 80.0       0.0  \n",
       "0.050                 80.0       0.0  \n",
       "0.100                 85.0       0.0  \n",
       "0.500                140.0       0.0  \n",
       "0.900                200.0       0.0  \n",
       "0.950                200.0       1.0  \n",
       "0.990                280.0       1.0  \n",
       "0.995                300.0       1.0  "
      ]
     },
     "execution_count": 49,
     "metadata": {},
     "output_type": "execute_result"
    }
   ],
   "source": [
    "df.quantile([0.005,.01,.05,.1,.5,.9,.95,.99,.995], numeric_only=True)\n"
   ]
  },
  {
   "cell_type": "markdown",
   "id": "28a86aa2",
   "metadata": {},
   "source": [
    "- Вычисление различных квантилей распределения для числовых колонок данных df. Это помогает понять распределение данных и позиции экстремальных значений."
   ]
  },
  {
   "cell_type": "code",
   "execution_count": 50,
   "id": "8e05002a",
   "metadata": {},
   "outputs": [],
   "source": [
    "rows_to_drop = df[\n",
    "    (df['bmi'] < df['bmi'].quantile(0.005)) | (df['bmi'] > df['bmi'].quantile(0.995)) |\n",
    "    (df['blood_glucose_level'] < df['blood_glucose_level'].quantile(0.005)) | (df['blood_glucose_level'] > df['blood_glucose_level'].quantile(0.97))].index\n",
    "df = df.drop(rows_to_drop)"
   ]
  },
  {
   "cell_type": "markdown",
   "id": "e83ea9b1",
   "metadata": {},
   "source": [
    "Определяем и удаляем выбросы выбросы в колонках bmi и blood_glucose_level из датафрейма df, используя заданные квантили."
   ]
  },
  {
   "cell_type": "code",
   "execution_count": 51,
   "id": "904093d6",
   "metadata": {},
   "outputs": [
    {
     "data": {
      "image/png": "[encoded data removed]",
      "text/plain": [
       "<Figure size 640x480 with 1 Axes>"
      ]
     },
     "metadata": {},
     "output_type": "display_data"
    }
   ],
   "source": [
    "sns.boxplot(df)\n",
    "pass"
   ]
  },
  {
   "cell_type": "markdown",
   "id": "823b8385",
   "metadata": {},
   "source": [
    "После удаления выбросов изначальные экстремальные значения исчезли. График теперь более сжатый, что позволяет сосредоточиться на центральной части распределения данных. Это делает сравнение переменных более четким и наглядным.\n"
   ]
  },
  {
   "cell_type": "markdown",
   "id": "a8b84024",
   "metadata": {},
   "source": [
    "# 3. Обработать пропущенные значения"
   ]
  },
  {
   "cell_type": "code",
   "execution_count": 52,
   "id": "481c2b38",
   "metadata": {},
   "outputs": [
    {
     "data": {
      "text/plain": [
       "gender                 0\n",
       "age                    0\n",
       "hypertension           0\n",
       "heart_disease          0\n",
       "smoking_history        0\n",
       "bmi                    0\n",
       "HbA1c_level            0\n",
       "blood_glucose_level    0\n",
       "diabetes               0\n",
       "dtype: int64"
      ]
     },
     "execution_count": 52,
     "metadata": {},
     "output_type": "execute_result"
    }
   ],
   "source": [
    "#пропуски\n",
    "df.isnull().sum()"
   ]
  },
  {
   "cell_type": "markdown",
   "id": "f2d608e0",
   "metadata": {},
   "source": [
    "В нашем случае, в обработке пропусков нет нужды."
   ]
  },
  {
   "cell_type": "markdown",
   "id": "ee2a961d",
   "metadata": {},
   "source": [
    "# 4. Обработать категориальные признаки"
   ]
  },
  {
   "cell_type": "code",
   "execution_count": 53,
   "id": "6ac42741",
   "metadata": {},
   "outputs": [],
   "source": [
    "#Определяем список числовых и категориальных столбцов и удаляем колонку diabetes из числовых.\n",
    "num_colum = [c for c in df.columns if df[c].dtype.name != 'category']\n",
    "categor_colum = [c for c in df.columns if df[c].dtype.name == 'category']\n",
    "num_colum.remove('diabetes')\n",
    "data_describe = df.describe(include = ['category'])"
   ]
  },
  {
   "cell_type": "code",
   "execution_count": 54,
   "id": "300ee9a9",
   "metadata": {},
   "outputs": [
    {
     "name": "stdout",
     "output_type": "stream",
     "text": [
      "['gender'] ['smoking_history']\n"
     ]
    }
   ],
   "source": [
    "#Выделяем бинарные и небинарные категориальные признаки, основываясь на количестве уникальных значений.\n",
    "binary_columns    = [c for c in categor_colum if data_describe[c]['unique'] == 2]\n",
    "nonbinary_columns = [c for c in categor_colum if data_describe[c]['unique'] > 2]\n",
    "print(binary_columns, nonbinary_columns)"
   ]
  },
  {
   "cell_type": "code",
   "execution_count": 55,
   "id": "dfccf1d7",
   "metadata": {},
   "outputs": [
    {
     "name": "stdout",
     "output_type": "stream",
     "text": [
      "['Female', 'Male']\n",
      "Categories (2, object): ['Female', 'Male']\n"
     ]
    }
   ],
   "source": [
    "#Печать уникальных значений в столбце gender для проверки его содержимого.\n",
    "print(df['gender'].unique())"
   ]
  },
  {
   "cell_type": "code",
   "execution_count": 56,
   "id": "bb6ae0c3",
   "metadata": {},
   "outputs": [
    {
     "name": "stdout",
     "output_type": "stream",
     "text": [
      "count     96366\n",
      "unique        2\n",
      "top           0\n",
      "freq      56535\n",
      "Name: gender, dtype: int64\n"
     ]
    },
    {
     "name": "stderr",
     "output_type": "stream",
     "text": [
      "C:\\Users\\bogdashkin-se\\AppData\\Local\\Temp\\ipykernel_20744\\3131188217.py:3: FutureWarning: Downcasting behavior in `replace` is deprecated and will be removed in a future version. To retain the old behavior, explicitly call `result.infer_objects(copy=False)`. To opt-in to the future behavior, set `pd.set_option('future.no_silent_downcasting', True)`\n",
      "  df = df.replace({col: {'Female': 0, 'Male': 1}})\n",
      "C:\\Users\\bogdashkin-se\\AppData\\Local\\Temp\\ipykernel_20744\\3131188217.py:3: FutureWarning: The behavior of Series.replace (and DataFrame.replace) with CategoricalDtype is deprecated. In a future version, replace will only be used for cases that preserve the categories. To change the categories, use ser.cat.rename_categories instead.\n",
      "  df = df.replace({col: {'Female': 0, 'Male': 1}})\n"
     ]
    }
   ],
   "source": [
    "#Замена категориальных значений в бинарных столбцах на числовые: Female на 0 и Male на 1.\n",
    "for col in binary_columns:\n",
    "    df = df.replace({col: {'Female': 0, 'Male': 1}})\n",
    "    print(df[col].describe())"
   ]
  },
  {
   "cell_type": "code",
   "execution_count": 57,
   "id": "742fdf88",
   "metadata": {},
   "outputs": [
    {
     "data": {
      "text/html": [
       "<div>\n",
       "<style scoped>\n",
       "    .dataframe tbody tr th:only-of-type {\n",
       "        vertical-align: middle;\n",
       "    }\n",
       "\n",
       "    .dataframe tbody tr th {\n",
       "        vertical-align: top;\n",
       "    }\n",
       "\n",
       "    .dataframe thead th {\n",
       "        text-align: right;\n",
       "    }\n",
       "</style>\n",
       "<table border=\"1\" class=\"dataframe\">\n",
       "  <thead>\n",
       "    <tr style=\"text-align: right;\">\n",
       "      <th></th>\n",
       "      <th>smoking_history_No Info</th>\n",
       "      <th>smoking_history_current</th>\n",
       "      <th>smoking_history_ever</th>\n",
       "      <th>smoking_history_former</th>\n",
       "      <th>smoking_history_never</th>\n",
       "      <th>smoking_history_not current</th>\n",
       "    </tr>\n",
       "  </thead>\n",
       "  <tbody>\n",
       "    <tr>\n",
       "      <th>count</th>\n",
       "      <td>96366.000000</td>\n",
       "      <td>96366.000000</td>\n",
       "      <td>96366.000000</td>\n",
       "      <td>96366.000000</td>\n",
       "      <td>96366.000000</td>\n",
       "      <td>96366.000000</td>\n",
       "    </tr>\n",
       "    <tr>\n",
       "      <th>mean</th>\n",
       "      <td>0.361185</td>\n",
       "      <td>0.092481</td>\n",
       "      <td>0.040024</td>\n",
       "      <td>0.091350</td>\n",
       "      <td>0.350954</td>\n",
       "      <td>0.064006</td>\n",
       "    </tr>\n",
       "    <tr>\n",
       "      <th>std</th>\n",
       "      <td>0.480347</td>\n",
       "      <td>0.289705</td>\n",
       "      <td>0.196018</td>\n",
       "      <td>0.288107</td>\n",
       "      <td>0.477271</td>\n",
       "      <td>0.244765</td>\n",
       "    </tr>\n",
       "    <tr>\n",
       "      <th>min</th>\n",
       "      <td>0.000000</td>\n",
       "      <td>0.000000</td>\n",
       "      <td>0.000000</td>\n",
       "      <td>0.000000</td>\n",
       "      <td>0.000000</td>\n",
       "      <td>0.000000</td>\n",
       "    </tr>\n",
       "    <tr>\n",
       "      <th>25%</th>\n",
       "      <td>0.000000</td>\n",
       "      <td>0.000000</td>\n",
       "      <td>0.000000</td>\n",
       "      <td>0.000000</td>\n",
       "      <td>0.000000</td>\n",
       "      <td>0.000000</td>\n",
       "    </tr>\n",
       "    <tr>\n",
       "      <th>50%</th>\n",
       "      <td>0.000000</td>\n",
       "      <td>0.000000</td>\n",
       "      <td>0.000000</td>\n",
       "      <td>0.000000</td>\n",
       "      <td>0.000000</td>\n",
       "      <td>0.000000</td>\n",
       "    </tr>\n",
       "    <tr>\n",
       "      <th>75%</th>\n",
       "      <td>1.000000</td>\n",
       "      <td>0.000000</td>\n",
       "      <td>0.000000</td>\n",
       "      <td>0.000000</td>\n",
       "      <td>1.000000</td>\n",
       "      <td>0.000000</td>\n",
       "    </tr>\n",
       "    <tr>\n",
       "      <th>max</th>\n",
       "      <td>1.000000</td>\n",
       "      <td>1.000000</td>\n",
       "      <td>1.000000</td>\n",
       "      <td>1.000000</td>\n",
       "      <td>1.000000</td>\n",
       "      <td>1.000000</td>\n",
       "    </tr>\n",
       "  </tbody>\n",
       "</table>\n",
       "</div>"
      ],
      "text/plain": [
       "       smoking_history_No Info  smoking_history_current  smoking_history_ever  \\\n",
       "count             96366.000000             96366.000000          96366.000000   \n",
       "mean                  0.361185                 0.092481              0.040024   \n",
       "std                   0.480347                 0.289705              0.196018   \n",
       "min                   0.000000                 0.000000              0.000000   \n",
       "25%                   0.000000                 0.000000              0.000000   \n",
       "50%                   0.000000                 0.000000              0.000000   \n",
       "75%                   1.000000                 0.000000              0.000000   \n",
       "max                   1.000000                 1.000000              1.000000   \n",
       "\n",
       "       smoking_history_former  smoking_history_never  \\\n",
       "count            96366.000000           96366.000000   \n",
       "mean                 0.091350               0.350954   \n",
       "std                  0.288107               0.477271   \n",
       "min                  0.000000               0.000000   \n",
       "25%                  0.000000               0.000000   \n",
       "50%                  0.000000               0.000000   \n",
       "75%                  0.000000               1.000000   \n",
       "max                  1.000000               1.000000   \n",
       "\n",
       "       smoking_history_not current  \n",
       "count                 96366.000000  \n",
       "mean                      0.064006  \n",
       "std                       0.244765  \n",
       "min                       0.000000  \n",
       "25%                       0.000000  \n",
       "50%                       0.000000  \n",
       "75%                       0.000000  \n",
       "max                       1.000000  "
      ]
     },
     "execution_count": 57,
     "metadata": {},
     "output_type": "execute_result"
    }
   ],
   "source": [
    "#Преобразуем небинарные категориальные переменные в числовые, используя get_dummies, и конвертируем логические значения в целочисленные.\n",
    "data_nonbin = pd.get_dummies(df[nonbinary_columns])\n",
    "data_nonbin[data_nonbin.select_dtypes('bool').columns] = data_nonbin.select_dtypes('bool').astype(int)\n",
    "data_nonbin.describe()"
   ]
  },
  {
   "cell_type": "markdown",
   "id": "d97dbe53",
   "metadata": {},
   "source": [
    "# 5. Провести нормализацию"
   ]
  },
  {
   "cell_type": "markdown",
   "id": "d78c6c3d",
   "metadata": {},
   "source": [
    "Извлекаем числовые признаки и описываем их основные статистики перед нормализацией."
   ]
  },
  {
   "cell_type": "code",
   "execution_count": 58,
   "id": "17834e5d",
   "metadata": {},
   "outputs": [
    {
     "data": {
      "text/html": [
       "<div>\n",
       "<style scoped>\n",
       "    .dataframe tbody tr th:only-of-type {\n",
       "        vertical-align: middle;\n",
       "    }\n",
       "\n",
       "    .dataframe tbody tr th {\n",
       "        vertical-align: top;\n",
       "    }\n",
       "\n",
       "    .dataframe thead th {\n",
       "        text-align: right;\n",
       "    }\n",
       "</style>\n",
       "<table border=\"1\" class=\"dataframe\">\n",
       "  <thead>\n",
       "    <tr style=\"text-align: right;\">\n",
       "      <th></th>\n",
       "      <th>age</th>\n",
       "      <th>hypertension</th>\n",
       "      <th>heart_disease</th>\n",
       "      <th>bmi</th>\n",
       "      <th>HbA1c_level</th>\n",
       "      <th>blood_glucose_level</th>\n",
       "    </tr>\n",
       "  </thead>\n",
       "  <tbody>\n",
       "    <tr>\n",
       "      <th>count</th>\n",
       "      <td>96366.000000</td>\n",
       "      <td>96366.000000</td>\n",
       "      <td>96366.000000</td>\n",
       "      <td>96366.000000</td>\n",
       "      <td>96366.000000</td>\n",
       "      <td>96366.000000</td>\n",
       "    </tr>\n",
       "    <tr>\n",
       "      <th>mean</th>\n",
       "      <td>41.524580</td>\n",
       "      <td>0.070160</td>\n",
       "      <td>0.036714</td>\n",
       "      <td>27.122088</td>\n",
       "      <td>5.488486</td>\n",
       "      <td>134.399747</td>\n",
       "    </tr>\n",
       "    <tr>\n",
       "      <th>std</th>\n",
       "      <td>22.399596</td>\n",
       "      <td>0.255417</td>\n",
       "      <td>0.188060</td>\n",
       "      <td>6.155209</td>\n",
       "      <td>1.044441</td>\n",
       "      <td>34.528515</td>\n",
       "    </tr>\n",
       "    <tr>\n",
       "      <th>min</th>\n",
       "      <td>0.080000</td>\n",
       "      <td>0.000000</td>\n",
       "      <td>0.000000</td>\n",
       "      <td>13.890000</td>\n",
       "      <td>3.500000</td>\n",
       "      <td>80.000000</td>\n",
       "    </tr>\n",
       "    <tr>\n",
       "      <th>25%</th>\n",
       "      <td>23.000000</td>\n",
       "      <td>0.000000</td>\n",
       "      <td>0.000000</td>\n",
       "      <td>23.580000</td>\n",
       "      <td>4.800000</td>\n",
       "      <td>100.000000</td>\n",
       "    </tr>\n",
       "    <tr>\n",
       "      <th>50%</th>\n",
       "      <td>42.000000</td>\n",
       "      <td>0.000000</td>\n",
       "      <td>0.000000</td>\n",
       "      <td>27.320000</td>\n",
       "      <td>5.800000</td>\n",
       "      <td>140.000000</td>\n",
       "    </tr>\n",
       "    <tr>\n",
       "      <th>75%</th>\n",
       "      <td>59.000000</td>\n",
       "      <td>0.000000</td>\n",
       "      <td>0.000000</td>\n",
       "      <td>29.290000</td>\n",
       "      <td>6.200000</td>\n",
       "      <td>158.000000</td>\n",
       "    </tr>\n",
       "    <tr>\n",
       "      <th>max</th>\n",
       "      <td>80.000000</td>\n",
       "      <td>1.000000</td>\n",
       "      <td>1.000000</td>\n",
       "      <td>52.500000</td>\n",
       "      <td>9.000000</td>\n",
       "      <td>220.000000</td>\n",
       "    </tr>\n",
       "  </tbody>\n",
       "</table>\n",
       "</div>"
      ],
      "text/plain": [
       "                age  hypertension  heart_disease           bmi   HbA1c_level  \\\n",
       "count  96366.000000  96366.000000   96366.000000  96366.000000  96366.000000   \n",
       "mean      41.524580      0.070160       0.036714     27.122088      5.488486   \n",
       "std       22.399596      0.255417       0.188060      6.155209      1.044441   \n",
       "min        0.080000      0.000000       0.000000     13.890000      3.500000   \n",
       "25%       23.000000      0.000000       0.000000     23.580000      4.800000   \n",
       "50%       42.000000      0.000000       0.000000     27.320000      5.800000   \n",
       "75%       59.000000      0.000000       0.000000     29.290000      6.200000   \n",
       "max       80.000000      1.000000       1.000000     52.500000      9.000000   \n",
       "\n",
       "       blood_glucose_level  \n",
       "count         96366.000000  \n",
       "mean            134.399747  \n",
       "std              34.528515  \n",
       "min              80.000000  \n",
       "25%             100.000000  \n",
       "50%             140.000000  \n",
       "75%             158.000000  \n",
       "max             220.000000  "
      ]
     },
     "execution_count": 58,
     "metadata": {},
     "output_type": "execute_result"
    }
   ],
   "source": [
    "data_num = df[num_colum]\n",
    "data_num.describe()"
   ]
  },
  {
   "cell_type": "markdown",
   "id": "47eaebb5",
   "metadata": {},
   "source": [
    "Приводим числовые данные к стандартному нормальному распределению (среднее 0, стандартное отклонение 1) и выводим новые статистики."
   ]
  },
  {
   "cell_type": "code",
   "execution_count": 59,
   "id": "58412606",
   "metadata": {},
   "outputs": [
    {
     "data": {
      "text/html": [
       "<div>\n",
       "<style scoped>\n",
       "    .dataframe tbody tr th:only-of-type {\n",
       "        vertical-align: middle;\n",
       "    }\n",
       "\n",
       "    .dataframe tbody tr th {\n",
       "        vertical-align: top;\n",
       "    }\n",
       "\n",
       "    .dataframe thead th {\n",
       "        text-align: right;\n",
       "    }\n",
       "</style>\n",
       "<table border=\"1\" class=\"dataframe\">\n",
       "  <thead>\n",
       "    <tr style=\"text-align: right;\">\n",
       "      <th></th>\n",
       "      <th>age</th>\n",
       "      <th>hypertension</th>\n",
       "      <th>heart_disease</th>\n",
       "      <th>bmi</th>\n",
       "      <th>HbA1c_level</th>\n",
       "      <th>blood_glucose_level</th>\n",
       "    </tr>\n",
       "  </thead>\n",
       "  <tbody>\n",
       "    <tr>\n",
       "      <th>count</th>\n",
       "      <td>9.636600e+04</td>\n",
       "      <td>9.636600e+04</td>\n",
       "      <td>9.636600e+04</td>\n",
       "      <td>9.636600e+04</td>\n",
       "      <td>9.636600e+04</td>\n",
       "      <td>9.636600e+04</td>\n",
       "    </tr>\n",
       "    <tr>\n",
       "      <th>mean</th>\n",
       "      <td>2.649991e-16</td>\n",
       "      <td>3.568714e-17</td>\n",
       "      <td>4.836935e-17</td>\n",
       "      <td>2.506948e-18</td>\n",
       "      <td>-6.488571e-18</td>\n",
       "      <td>4.182179e-16</td>\n",
       "    </tr>\n",
       "    <tr>\n",
       "      <th>std</th>\n",
       "      <td>1.000000e+00</td>\n",
       "      <td>1.000000e+00</td>\n",
       "      <td>1.000000e+00</td>\n",
       "      <td>1.000000e+00</td>\n",
       "      <td>1.000000e+00</td>\n",
       "      <td>1.000000e+00</td>\n",
       "    </tr>\n",
       "    <tr>\n",
       "      <th>min</th>\n",
       "      <td>-1.850238e+00</td>\n",
       "      <td>-2.746864e-01</td>\n",
       "      <td>-1.952258e-01</td>\n",
       "      <td>-2.149738e+00</td>\n",
       "      <td>-1.903875e+00</td>\n",
       "      <td>-1.575502e+00</td>\n",
       "    </tr>\n",
       "    <tr>\n",
       "      <th>25%</th>\n",
       "      <td>-8.270051e-01</td>\n",
       "      <td>-2.746864e-01</td>\n",
       "      <td>-1.952258e-01</td>\n",
       "      <td>-5.754619e-01</td>\n",
       "      <td>-6.591903e-01</td>\n",
       "      <td>-9.962707e-01</td>\n",
       "    </tr>\n",
       "    <tr>\n",
       "      <th>50%</th>\n",
       "      <td>2.122449e-02</td>\n",
       "      <td>-2.746864e-01</td>\n",
       "      <td>-1.952258e-01</td>\n",
       "      <td>3.215352e-02</td>\n",
       "      <td>2.982594e-01</td>\n",
       "      <td>1.621921e-01</td>\n",
       "    </tr>\n",
       "    <tr>\n",
       "      <th>75%</th>\n",
       "      <td>7.801667e-01</td>\n",
       "      <td>-2.746864e-01</td>\n",
       "      <td>-1.952258e-01</td>\n",
       "      <td>3.522076e-01</td>\n",
       "      <td>6.812392e-01</td>\n",
       "      <td>6.835004e-01</td>\n",
       "    </tr>\n",
       "    <tr>\n",
       "      <th>max</th>\n",
       "      <td>1.717684e+00</td>\n",
       "      <td>3.640478e+00</td>\n",
       "      <td>5.122221e+00</td>\n",
       "      <td>4.122997e+00</td>\n",
       "      <td>3.362098e+00</td>\n",
       "      <td>2.479118e+00</td>\n",
       "    </tr>\n",
       "  </tbody>\n",
       "</table>\n",
       "</div>"
      ],
      "text/plain": [
       "                age  hypertension  heart_disease           bmi   HbA1c_level  \\\n",
       "count  9.636600e+04  9.636600e+04   9.636600e+04  9.636600e+04  9.636600e+04   \n",
       "mean   2.649991e-16  3.568714e-17   4.836935e-17  2.506948e-18 -6.488571e-18   \n",
       "std    1.000000e+00  1.000000e+00   1.000000e+00  1.000000e+00  1.000000e+00   \n",
       "min   -1.850238e+00 -2.746864e-01  -1.952258e-01 -2.149738e+00 -1.903875e+00   \n",
       "25%   -8.270051e-01 -2.746864e-01  -1.952258e-01 -5.754619e-01 -6.591903e-01   \n",
       "50%    2.122449e-02 -2.746864e-01  -1.952258e-01  3.215352e-02  2.982594e-01   \n",
       "75%    7.801667e-01 -2.746864e-01  -1.952258e-01  3.522076e-01  6.812392e-01   \n",
       "max    1.717684e+00  3.640478e+00   5.122221e+00  4.122997e+00  3.362098e+00   \n",
       "\n",
       "       blood_glucose_level  \n",
       "count         9.636600e+04  \n",
       "mean          4.182179e-16  \n",
       "std           1.000000e+00  \n",
       "min          -1.575502e+00  \n",
       "25%          -9.962707e-01  \n",
       "50%           1.621921e-01  \n",
       "75%           6.835004e-01  \n",
       "max           2.479118e+00  "
      ]
     },
     "execution_count": 59,
     "metadata": {},
     "output_type": "execute_result"
    }
   ],
   "source": [
    "data_num = (data_num - data_num.mean()) / data_num.std()\n",
    "data_num.describe()"
   ]
  },
  {
   "cell_type": "markdown",
   "id": "21da82a4",
   "metadata": {},
   "source": [
    "Соединяем нормализованные числовые, бинарные и закодированные небинарные данные вместе с целевым столбцом diabetes. Затем выводим статистическое описание итогового набора данных."
   ]
  },
  {
   "cell_type": "code",
   "execution_count": 60,
   "id": "68bdfee9",
   "metadata": {},
   "outputs": [
    {
     "data": {
      "text/html": [
       "<div>\n",
       "<style scoped>\n",
       "    .dataframe tbody tr th:only-of-type {\n",
       "        vertical-align: middle;\n",
       "    }\n",
       "\n",
       "    .dataframe tbody tr th {\n",
       "        vertical-align: top;\n",
       "    }\n",
       "\n",
       "    .dataframe thead th {\n",
       "        text-align: right;\n",
       "    }\n",
       "</style>\n",
       "<table border=\"1\" class=\"dataframe\">\n",
       "  <thead>\n",
       "    <tr style=\"text-align: right;\">\n",
       "      <th></th>\n",
       "      <th>age</th>\n",
       "      <th>hypertension</th>\n",
       "      <th>heart_disease</th>\n",
       "      <th>bmi</th>\n",
       "      <th>HbA1c_level</th>\n",
       "      <th>blood_glucose_level</th>\n",
       "      <th>smoking_history_No Info</th>\n",
       "      <th>smoking_history_current</th>\n",
       "      <th>smoking_history_ever</th>\n",
       "      <th>smoking_history_former</th>\n",
       "      <th>smoking_history_never</th>\n",
       "      <th>smoking_history_not current</th>\n",
       "      <th>diabetes</th>\n",
       "    </tr>\n",
       "  </thead>\n",
       "  <tbody>\n",
       "    <tr>\n",
       "      <th>count</th>\n",
       "      <td>9.636600e+04</td>\n",
       "      <td>9.636600e+04</td>\n",
       "      <td>9.636600e+04</td>\n",
       "      <td>9.636600e+04</td>\n",
       "      <td>9.636600e+04</td>\n",
       "      <td>9.636600e+04</td>\n",
       "      <td>96366.000000</td>\n",
       "      <td>96366.000000</td>\n",
       "      <td>96366.000000</td>\n",
       "      <td>96366.000000</td>\n",
       "      <td>96366.000000</td>\n",
       "      <td>96366.000000</td>\n",
       "      <td>96366.000000</td>\n",
       "    </tr>\n",
       "    <tr>\n",
       "      <th>mean</th>\n",
       "      <td>2.649991e-16</td>\n",
       "      <td>3.568714e-17</td>\n",
       "      <td>4.836935e-17</td>\n",
       "      <td>2.506948e-18</td>\n",
       "      <td>-6.488571e-18</td>\n",
       "      <td>4.182179e-16</td>\n",
       "      <td>0.361185</td>\n",
       "      <td>0.092481</td>\n",
       "      <td>0.040024</td>\n",
       "      <td>0.091350</td>\n",
       "      <td>0.350954</td>\n",
       "      <td>0.064006</td>\n",
       "      <td>0.059316</td>\n",
       "    </tr>\n",
       "    <tr>\n",
       "      <th>std</th>\n",
       "      <td>1.000000e+00</td>\n",
       "      <td>1.000000e+00</td>\n",
       "      <td>1.000000e+00</td>\n",
       "      <td>1.000000e+00</td>\n",
       "      <td>1.000000e+00</td>\n",
       "      <td>1.000000e+00</td>\n",
       "      <td>0.480347</td>\n",
       "      <td>0.289705</td>\n",
       "      <td>0.196018</td>\n",
       "      <td>0.288107</td>\n",
       "      <td>0.477271</td>\n",
       "      <td>0.244765</td>\n",
       "      <td>0.236216</td>\n",
       "    </tr>\n",
       "    <tr>\n",
       "      <th>min</th>\n",
       "      <td>-1.850238e+00</td>\n",
       "      <td>-2.746864e-01</td>\n",
       "      <td>-1.952258e-01</td>\n",
       "      <td>-2.149738e+00</td>\n",
       "      <td>-1.903875e+00</td>\n",
       "      <td>-1.575502e+00</td>\n",
       "      <td>0.000000</td>\n",
       "      <td>0.000000</td>\n",
       "      <td>0.000000</td>\n",
       "      <td>0.000000</td>\n",
       "      <td>0.000000</td>\n",
       "      <td>0.000000</td>\n",
       "      <td>0.000000</td>\n",
       "    </tr>\n",
       "    <tr>\n",
       "      <th>25%</th>\n",
       "      <td>-8.270051e-01</td>\n",
       "      <td>-2.746864e-01</td>\n",
       "      <td>-1.952258e-01</td>\n",
       "      <td>-5.754619e-01</td>\n",
       "      <td>-6.591903e-01</td>\n",
       "      <td>-9.962707e-01</td>\n",
       "      <td>0.000000</td>\n",
       "      <td>0.000000</td>\n",
       "      <td>0.000000</td>\n",
       "      <td>0.000000</td>\n",
       "      <td>0.000000</td>\n",
       "      <td>0.000000</td>\n",
       "      <td>0.000000</td>\n",
       "    </tr>\n",
       "    <tr>\n",
       "      <th>50%</th>\n",
       "      <td>2.122449e-02</td>\n",
       "      <td>-2.746864e-01</td>\n",
       "      <td>-1.952258e-01</td>\n",
       "      <td>3.215352e-02</td>\n",
       "      <td>2.982594e-01</td>\n",
       "      <td>1.621921e-01</td>\n",
       "      <td>0.000000</td>\n",
       "      <td>0.000000</td>\n",
       "      <td>0.000000</td>\n",
       "      <td>0.000000</td>\n",
       "      <td>0.000000</td>\n",
       "      <td>0.000000</td>\n",
       "      <td>0.000000</td>\n",
       "    </tr>\n",
       "    <tr>\n",
       "      <th>75%</th>\n",
       "      <td>7.801667e-01</td>\n",
       "      <td>-2.746864e-01</td>\n",
       "      <td>-1.952258e-01</td>\n",
       "      <td>3.522076e-01</td>\n",
       "      <td>6.812392e-01</td>\n",
       "      <td>6.835004e-01</td>\n",
       "      <td>1.000000</td>\n",
       "      <td>0.000000</td>\n",
       "      <td>0.000000</td>\n",
       "      <td>0.000000</td>\n",
       "      <td>1.000000</td>\n",
       "      <td>0.000000</td>\n",
       "      <td>0.000000</td>\n",
       "    </tr>\n",
       "    <tr>\n",
       "      <th>max</th>\n",
       "      <td>1.717684e+00</td>\n",
       "      <td>3.640478e+00</td>\n",
       "      <td>5.122221e+00</td>\n",
       "      <td>4.122997e+00</td>\n",
       "      <td>3.362098e+00</td>\n",
       "      <td>2.479118e+00</td>\n",
       "      <td>1.000000</td>\n",
       "      <td>1.000000</td>\n",
       "      <td>1.000000</td>\n",
       "      <td>1.000000</td>\n",
       "      <td>1.000000</td>\n",
       "      <td>1.000000</td>\n",
       "      <td>1.000000</td>\n",
       "    </tr>\n",
       "  </tbody>\n",
       "</table>\n",
       "</div>"
      ],
      "text/plain": [
       "                age  hypertension  heart_disease           bmi   HbA1c_level  \\\n",
       "count  9.636600e+04  9.636600e+04   9.636600e+04  9.636600e+04  9.636600e+04   \n",
       "mean   2.649991e-16  3.568714e-17   4.836935e-17  2.506948e-18 -6.488571e-18   \n",
       "std    1.000000e+00  1.000000e+00   1.000000e+00  1.000000e+00  1.000000e+00   \n",
       "min   -1.850238e+00 -2.746864e-01  -1.952258e-01 -2.149738e+00 -1.903875e+00   \n",
       "25%   -8.270051e-01 -2.746864e-01  -1.952258e-01 -5.754619e-01 -6.591903e-01   \n",
       "50%    2.122449e-02 -2.746864e-01  -1.952258e-01  3.215352e-02  2.982594e-01   \n",
       "75%    7.801667e-01 -2.746864e-01  -1.952258e-01  3.522076e-01  6.812392e-01   \n",
       "max    1.717684e+00  3.640478e+00   5.122221e+00  4.122997e+00  3.362098e+00   \n",
       "\n",
       "       blood_glucose_level  smoking_history_No Info  smoking_history_current  \\\n",
       "count         9.636600e+04             96366.000000             96366.000000   \n",
       "mean          4.182179e-16                 0.361185                 0.092481   \n",
       "std           1.000000e+00                 0.480347                 0.289705   \n",
       "min          -1.575502e+00                 0.000000                 0.000000   \n",
       "25%          -9.962707e-01                 0.000000                 0.000000   \n",
       "50%           1.621921e-01                 0.000000                 0.000000   \n",
       "75%           6.835004e-01                 1.000000                 0.000000   \n",
       "max           2.479118e+00                 1.000000                 1.000000   \n",
       "\n",
       "       smoking_history_ever  smoking_history_former  smoking_history_never  \\\n",
       "count          96366.000000            96366.000000           96366.000000   \n",
       "mean               0.040024                0.091350               0.350954   \n",
       "std                0.196018                0.288107               0.477271   \n",
       "min                0.000000                0.000000               0.000000   \n",
       "25%                0.000000                0.000000               0.000000   \n",
       "50%                0.000000                0.000000               0.000000   \n",
       "75%                0.000000                0.000000               1.000000   \n",
       "max                1.000000                1.000000               1.000000   \n",
       "\n",
       "       smoking_history_not current      diabetes  \n",
       "count                 96366.000000  96366.000000  \n",
       "mean                      0.064006      0.059316  \n",
       "std                       0.244765      0.236216  \n",
       "min                       0.000000      0.000000  \n",
       "25%                       0.000000      0.000000  \n",
       "50%                       0.000000      0.000000  \n",
       "75%                       0.000000      0.000000  \n",
       "max                       1.000000      1.000000  "
      ]
     },
     "execution_count": 60,
     "metadata": {},
     "output_type": "execute_result"
    }
   ],
   "source": [
    "df = pd.concat((data_num, data_nonbin, df[binary_columns], df['diabetes']), axis = 1)\n",
    "df.describe()"
   ]
  },
  {
   "cell_type": "markdown",
   "id": "8681c2f0",
   "metadata": {},
   "source": [
    "# 6. Разбить данные на обучающую и тестовую выборки"
   ]
  },
  {
   "cell_type": "markdown",
   "id": "85fb84fc",
   "metadata": {},
   "source": [
    "Разделяем данные на признаки X и целевую переменную y, удаляя колонку diabetes из признаков."
   ]
  },
  {
   "cell_type": "code",
   "execution_count": 61,
   "id": "fda57b8a",
   "metadata": {},
   "outputs": [],
   "source": [
    "X = df.drop(['diabetes'], axis = 1)\n",
    "y = df['diabetes']"
   ]
  },
  {
   "cell_type": "markdown",
   "id": "378a7b10",
   "metadata": {},
   "source": [
    "Используем train_test_split для разбиения данных на обучающую (85%) и тестовую (15%) выборки и выводим размеры выборок."
   ]
  },
  {
   "cell_type": "markdown",
   "id": "507ca1d7",
   "metadata": {},
   "source": [
    "# 7. Запустить классификатор (ререссию) ближайших соседей или другой метод"
   ]
  },
  {
   "cell_type": "code",
   "execution_count": 62,
   "id": "2be34c65",
   "metadata": {},
   "outputs": [
    {
     "name": "stdout",
     "output_type": "stream",
     "text": [
      "err_train= 0.026736335779077292 err_test= 0.041854029747492215\n",
      "Accuracy Score train : 97.32636642209226\n",
      "Accuracy Score test : 95.81459702525078\n"
     ]
    }
   ],
   "source": [
    "from sklearn.neighbors import KNeighborsClassifier\n",
    "from sklearn.metrics import accuracy_score\n",
    "\n",
    "k_n = KNeighborsClassifier(n_neighbors=3)\n",
    "k_n.fit(X_train, y_train)\n",
    "\n",
    "y_train_predict = k_n.predict(X_train)\n",
    "y_test_predict = k_n.predict(X_test)\n",
    "\n",
    "print('err_train=', np.mean(y_train != y_train_predict), 'err_test=', np.mean(y_test != y_test_predict))\n",
    "print(f'Accuracy Score train : {accuracy_score(y_train, y_train_predict)*100}')\n",
    "print(f'Accuracy Score test : {accuracy_score(y_test, y_test_predict)*100}')"
   ]
  },
  {
   "cell_type": "markdown",
   "id": "71c2bc06",
   "metadata": {},
   "source": [
    "Запуск классификатора K-ближайших соседей (KNN):\n",
    "- Импортируем KNeighborsClassifier из sklearn.\n",
    "- Создаём и обучаем модель KNN с 3 соседями на обучающих данных.\n",
    "- Предсказываем результаты для обучающей и тестовой выборок.\n",
    "- Вычисляем и выводим ошибки и точность на обучающей и тестовой выборках.\n"
   ]
  },
  {
   "cell_type": "markdown",
   "id": "b6cc47cf",
   "metadata": {},
   "source": [
    "# 8. Вычислить ошибки на обучающей и тестовой выборках. Выбрать оптимальное значение гиперпараметра (к-ва ближайших соседей)"
   ]
  },
  {
   "cell_type": "code",
   "execution_count": 63,
   "id": "03802545",
   "metadata": {},
   "outputs": [
    {
     "name": "stdout",
     "output_type": "stream",
     "text": [
      "Лучший параметр n_neighbors: 13\n",
      "Точность (1 - ошибка) на кросс-валидации: 0.9609210083915384\n",
      "Лучший результат ошибки (1 - точность) на кросс-валидации: 0.03907899160846162\n",
      "Ошибка на обучающей выборке: 0.03658849238807971\n",
      "Ошибка на тестовой выборке: 0.0394327222414389\n",
      "Точность на обучающей выборке: 0.9634115076119203\n",
      "Точность на тестовой выборке: 0.9605672777585611\n"
     ]
    }
   ],
   "source": [
    "import sklearn\n",
    "from sklearn.neighbors import KNeighborsClassifier\n",
    "from sklearn.model_selection import cross_val_score\n",
    "from sklearn.model_selection import GridSearchCV\n",
    "\n",
    "n = [1, 3, 5, 7, 9, 11, 13, 19]\n",
    "knn = KNeighborsClassifier()\n",
    "grid = GridSearchCV(knn, param_grid = {'n_neighbors': n})\n",
    "grid.fit(X_train, y_train)\n",
    "\n",
    "best_err = 1 - grid.best_score_\n",
    "best_n = grid.best_estimator_.n_neighbors\n",
    "print(f\"Лучший параметр n_neighbors: {best_n}\")\n",
    "print(f\"Точность (1 - ошибка) на кросс-валидации: {grid.best_score_}\")\n",
    "print(f\"Лучший результат ошибки (1 - точность) на кросс-валидации: {best_err}\")\n",
    "\n",
    "knn = KNeighborsClassifier(n_neighbors = best_n)\n",
    "knn.fit(X_train, y_train)\n",
    "err_train = 1 - knn.score(X_train, y_train)\n",
    "err_test = 1 - knn.score(X_test, y_test)\n",
    "# print(err_train, err_test)\n",
    "print(f\"Ошибка на обучающей выборке: {err_train}\")\n",
    "print(f\"Ошибка на тестовой выборке: {err_test}\")\n",
    "print(f\"Точность на обучающей выборке: {knn.score(X_train, y_train)}\")\n",
    "print(f\"Точность на тестовой выборке: {knn.score(X_test, y_test)}\")"
   ]
  },
  {
   "cell_type": "markdown",
   "id": "a3dd4603",
   "metadata": {},
   "source": [
    "Оптимизация гиперпараметра K в KNN:\n",
    "- Определяем набор значений n для числа соседей.\n",
    "- Используем GridSearchCV для поиска оптимального значения n с помощью кросс-валидации.\n",
    "- Находим лучший параметр и его оценку.\n",
    "- Строим и обучаем модель с наилучшим значением n.\n",
    "- Вычисляем и выводим ошибки, а также точность модели на обучающей и тестовой выборках."
   ]
  },
  {
   "cell_type": "code",
   "execution_count": null,
   "id": "a47c4190",
   "metadata": {},
   "outputs": [
    {
     "data": {
      "image/png": "[encoded data removed]",
      "text/plain": [
       "<Figure size 1000x600 with 1 Axes>"
      ]
     },
     "metadata": {},
     "output_type": "display_data"
    },
    {
     "ename": "",
     "evalue": "",
     "output_type": "error",
     "traceback": [
      "\u001b[1;31mПри выполнении кода в текущей ячейке или предыдущей ячейке ядро аварийно завершило работу. \n",
      "\u001b[1;31mПроверьте код в ячейках, чтобы определить возможную причину сбоя. \n",
      "\u001b[1;31mЩелкните <a href='https://aka.ms/vscodeJupyterKernelCrash'>здесь</a>, чтобы получить дополнительные сведения. \n",
      "\u001b[1;31mПодробнее см. в <a href='command:jupyter.viewOutput'>журнале Jupyter</a>."
     ]
    }
   ],
   "source": [
    "# Получение значений точности для каждого количества соседей\n",
    "results = grid.cv_results_\n",
    "mean_scores = results['mean_test_score']\n",
    "\n",
    "# Построение графика\n",
    "plt.figure(figsize=(10, 6))\n",
    "plt.plot(n, mean_scores, marker='o', linestyle='-', color='navy', linewidth=2, markersize=8)\n",
    "plt.xlabel('Число соседей', fontsize=12)\n",
    "plt.ylabel('Средняя кросс-валидационная точность', fontsize=12)\n",
    "plt.title('Оптимальное число соседей для KNN', fontsize=14)\n",
    "plt.xticks(n, fontsize=10)\n",
    "plt.yticks(fontsize=10)\n",
    "plt.grid(True, linestyle='--', alpha=0.7)\n",
    "plt.tight_layout()\n",
    "plt.show()"
   ]
  },
  {
   "cell_type": "markdown",
   "id": "098bf976",
   "metadata": {},
   "source": [
    "Этот график показывает зависимость средней кросс-валидационной точности модели от числа соседей \\( k \\) в алгоритме K-ближайших соседей (KNN). \n",
    "\n",
    "- По мере увеличения \\( k \\), точность увеличивается и достигает максимума около \\( k = 13 \\). \n",
    "- Затем точность стабилизируется и слегка снижается. \n",
    "- Это помогает выбрать оптимальное значение \\( k = 13 \\), обеспечивающее наивысшую точность."
   ]
  },
  {
   "cell_type": "markdown",
   "id": "549692a7",
   "metadata": {},
   "source": [
    "**После проведения анализа и обучения модели K-ближайших соседей можно сделать следующие выводы:**\n",
    "\n",
    "1. Оптимизация параметров: Мы успешно настроили гиперпараметр \\( k \\), используя кросс-валидацию, и выбрали оптимальное значение, обеспечивающее высокую точность.\n",
    "\n",
    "2. Качество модели: Модель продемонстрировала высокую производительность как на обучающих, так и на тестовых данных, что свидетельствует о хорошей генерализации и надежности.\n",
    "\n",
    "3. Визуализация данных: График показал, как выбор числа соседей влияет на точность, что помогло окончательно определить оптимальное значение \\( k \\).\n",
    "\n",
    "4. Практическое применение: Модель KNN готова к использованию для прогнозирования, и ее можно применять в реальных задачах, учитывая высокую точность.\n",
    "\n",
    "Эти результаты показывают успешное применение машинного обучения для решения поставленной задачи."
   ]
  }
 ],
 "metadata": {
  "kernelspec": {
   "display_name": "Python 3",
   "language": "python",
   "name": "python3"
  },
  "language_info": {
   "codemirror_mode": {
    "name": "ipython",
    "version": 3
   },
   "file_extension": ".py",
   "mimetype": "text/x-python",
   "name": "python",
   "nbconvert_exporter": "python",
   "pygments_lexer": "ipython3",
   "version": "3.12.6"
  }
 },
 "nbformat": 4,
 "nbformat_minor": 5
}
